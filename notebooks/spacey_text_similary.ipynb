{
 "cells": [
  {
   "cell_type": "code",
   "execution_count": 1,
   "metadata": {},
   "outputs": [],
   "source": [
    "# pip install spacy \n",
    "# python -m spacy download en_core_web_md\n",
    "\n",
    "import spacy"
   ]
  },
  {
   "cell_type": "code",
   "execution_count": 2,
   "metadata": {},
   "outputs": [],
   "source": [
    "nlp = spacy.load('en_core_web_md')"
   ]
  },
  {
   "cell_type": "code",
   "execution_count": 134,
   "metadata": {},
   "outputs": [
    {
     "data": {
      "text/html": [
       "<div>\n",
       "<style scoped>\n",
       "    .dataframe tbody tr th:only-of-type {\n",
       "        vertical-align: middle;\n",
       "    }\n",
       "\n",
       "    .dataframe tbody tr th {\n",
       "        vertical-align: top;\n",
       "    }\n",
       "\n",
       "    .dataframe thead th {\n",
       "        text-align: right;\n",
       "    }\n",
       "</style>\n",
       "<table border=\"1\" class=\"dataframe\">\n",
       "  <thead>\n",
       "    <tr style=\"text-align: right;\">\n",
       "      <th></th>\n",
       "      <th>id</th>\n",
       "      <th>issn</th>\n",
       "      <th>author</th>\n",
       "      <th>abstract</th>\n",
       "    </tr>\n",
       "  </thead>\n",
       "  <tbody>\n",
       "    <tr>\n",
       "      <th>597</th>\n",
       "      <td>W4383896166</td>\n",
       "      <td>0094-0496</td>\n",
       "      <td>['René D. Flores', 'Maria Vignau Loria', 'Regi...</td>\n",
       "      <td>Ethnic boundary crossing takes two different f...</td>\n",
       "    </tr>\n",
       "  </tbody>\n",
       "</table>\n",
       "</div>"
      ],
      "text/plain": [
       "              id       issn  \\\n",
       "597  W4383896166  0094-0496   \n",
       "\n",
       "                                                author  \\\n",
       "597  ['René D. Flores', 'Maria Vignau Loria', 'Regi...   \n",
       "\n",
       "                                              abstract  \n",
       "597  Ethnic boundary crossing takes two different f...  "
      ]
     },
     "execution_count": 134,
     "metadata": {},
     "output_type": "execute_result"
    }
   ],
   "source": [
    "import pandas as pd \n",
    "\n",
    "abstracts = pd.read_csv(\"abstracts_from_W4383896166.csv\", names=[\"id\", \"issn\", \"author\", \"abstract\"], skiprows=1)\n",
    "\n",
    "abstracts[abstracts['abstract'].str.match('Ethnic boundary crossing takes two', na=False)]\n",
    "#abstracts"
   ]
  },
  {
   "cell_type": "code",
   "execution_count": 135,
   "metadata": {},
   "outputs": [
    {
     "data": {
      "text/plain": [
       "str"
      ]
     },
     "execution_count": 135,
     "metadata": {},
     "output_type": "execute_result"
    }
   ],
   "source": [
    "type(abstracts[\"abstract\"][0])"
   ]
  },
  {
   "cell_type": "code",
   "execution_count": 136,
   "metadata": {},
   "outputs": [],
   "source": [
    "abstracts[\"abstracts_nlp\"] = abstracts[\"abstract\"].apply(lambda x: nlp(x) if type(x)==str else x)"
   ]
  },
  {
   "cell_type": "code",
   "execution_count": 137,
   "metadata": {},
   "outputs": [
    {
     "data": {
      "text/html": [
       "<div>\n",
       "<style scoped>\n",
       "    .dataframe tbody tr th:only-of-type {\n",
       "        vertical-align: middle;\n",
       "    }\n",
       "\n",
       "    .dataframe tbody tr th {\n",
       "        vertical-align: top;\n",
       "    }\n",
       "\n",
       "    .dataframe thead th {\n",
       "        text-align: right;\n",
       "    }\n",
       "</style>\n",
       "<table border=\"1\" class=\"dataframe\">\n",
       "  <thead>\n",
       "    <tr style=\"text-align: right;\">\n",
       "      <th></th>\n",
       "      <th>id</th>\n",
       "      <th>issn</th>\n",
       "      <th>author</th>\n",
       "      <th>abstract</th>\n",
       "      <th>abstracts_nlp</th>\n",
       "    </tr>\n",
       "  </thead>\n",
       "  <tbody>\n",
       "    <tr>\n",
       "      <th>0</th>\n",
       "      <td>W2753533763</td>\n",
       "      <td>0031-9228</td>\n",
       "      <td>['Thomas S. Kuhn', 'Richard Schlegel']</td>\n",
       "      <td>A good book may have the power to change the w...</td>\n",
       "      <td>(A, good, book, may, have, the, power, to, cha...</td>\n",
       "    </tr>\n",
       "    <tr>\n",
       "      <th>1</th>\n",
       "      <td>W2045830397</td>\n",
       "      <td>0096-3445</td>\n",
       "      <td>['Eleanor Rosch']</td>\n",
       "      <td>NaN</td>\n",
       "      <td>NaN</td>\n",
       "    </tr>\n",
       "    <tr>\n",
       "      <th>2</th>\n",
       "      <td>W2032344422</td>\n",
       "      <td>0033-2909</td>\n",
       "      <td>['Janet Shibley Hyde', 'Marcia C. Linn']</td>\n",
       "      <td>NaN</td>\n",
       "      <td>NaN</td>\n",
       "    </tr>\n",
       "    <tr>\n",
       "      <th>3</th>\n",
       "      <td>W2172033188</td>\n",
       "      <td>0025-1496</td>\n",
       "      <td>['Dan Sperber']</td>\n",
       "      <td>L'A. soutient que les phenomenes culturels son...</td>\n",
       "      <td>(L'A., soutient, que, les, phenomenes, culture...</td>\n",
       "    </tr>\n",
       "    <tr>\n",
       "      <th>4</th>\n",
       "      <td>W3173881769</td>\n",
       "      <td>0032-3195</td>\n",
       "      <td>['Pierre Bourdieu', 'Jean-Claude Chamboredon',...</td>\n",
       "      <td>NaN</td>\n",
       "      <td>NaN</td>\n",
       "    </tr>\n",
       "    <tr>\n",
       "      <th>...</th>\n",
       "      <td>...</td>\n",
       "      <td>...</td>\n",
       "      <td>...</td>\n",
       "      <td>...</td>\n",
       "      <td>...</td>\n",
       "    </tr>\n",
       "    <tr>\n",
       "      <th>784</th>\n",
       "      <td>W2330008435</td>\n",
       "      <td>0039-6338</td>\n",
       "      <td>['Arthur L. Stinchcombe']</td>\n",
       "      <td>Plantations, especially sugar plantations, cre...</td>\n",
       "      <td>(Plantations, ,, especially, sugar, plantation...</td>\n",
       "    </tr>\n",
       "    <tr>\n",
       "      <th>785</th>\n",
       "      <td>W2072193905</td>\n",
       "      <td>0037-7791</td>\n",
       "      <td>['Jennifer Stuber', 'Karl Kronebusch']</td>\n",
       "      <td>We developed a conceptual framework to examine...</td>\n",
       "      <td>(We, developed, a, conceptual, framework, to, ...</td>\n",
       "    </tr>\n",
       "    <tr>\n",
       "      <th>786</th>\n",
       "      <td>W1998835561</td>\n",
       "      <td>0305-7070</td>\n",
       "      <td>['Christiane Eilders', 'Albrecht Lüter']</td>\n",
       "      <td>This research note deals with the role of the ...</td>\n",
       "      <td>(This, research, note, deals, with, the, role,...</td>\n",
       "    </tr>\n",
       "    <tr>\n",
       "      <th>787</th>\n",
       "      <td>W2060094683</td>\n",
       "      <td>0095-182X</td>\n",
       "      <td>['Jens Bartelson']</td>\n",
       "      <td>This article analyses existing assumptions abo...</td>\n",
       "      <td>(This, article, analyses, existing, assumption...</td>\n",
       "    </tr>\n",
       "    <tr>\n",
       "      <th>788</th>\n",
       "      <td>W2328969534</td>\n",
       "      <td>0018-2168</td>\n",
       "      <td>['Peter J. Burke', 'Stephen L. Franzoi']</td>\n",
       "      <td>This paper explores a central question in soci...</td>\n",
       "      <td>(This, paper, explores, a, central, question, ...</td>\n",
       "    </tr>\n",
       "  </tbody>\n",
       "</table>\n",
       "<p>789 rows × 5 columns</p>\n",
       "</div>"
      ],
      "text/plain": [
       "              id       issn  \\\n",
       "0    W2753533763  0031-9228   \n",
       "1    W2045830397  0096-3445   \n",
       "2    W2032344422  0033-2909   \n",
       "3    W2172033188  0025-1496   \n",
       "4    W3173881769  0032-3195   \n",
       "..           ...        ...   \n",
       "784  W2330008435  0039-6338   \n",
       "785  W2072193905  0037-7791   \n",
       "786  W1998835561  0305-7070   \n",
       "787  W2060094683  0095-182X   \n",
       "788  W2328969534  0018-2168   \n",
       "\n",
       "                                                author  \\\n",
       "0               ['Thomas S. Kuhn', 'Richard Schlegel']   \n",
       "1                                    ['Eleanor Rosch']   \n",
       "2             ['Janet Shibley Hyde', 'Marcia C. Linn']   \n",
       "3                                      ['Dan Sperber']   \n",
       "4    ['Pierre Bourdieu', 'Jean-Claude Chamboredon',...   \n",
       "..                                                 ...   \n",
       "784                          ['Arthur L. Stinchcombe']   \n",
       "785             ['Jennifer Stuber', 'Karl Kronebusch']   \n",
       "786           ['Christiane Eilders', 'Albrecht Lüter']   \n",
       "787                                 ['Jens Bartelson']   \n",
       "788           ['Peter J. Burke', 'Stephen L. Franzoi']   \n",
       "\n",
       "                                              abstract  \\\n",
       "0    A good book may have the power to change the w...   \n",
       "1                                                  NaN   \n",
       "2                                                  NaN   \n",
       "3    L'A. soutient que les phenomenes culturels son...   \n",
       "4                                                  NaN   \n",
       "..                                                 ...   \n",
       "784  Plantations, especially sugar plantations, cre...   \n",
       "785  We developed a conceptual framework to examine...   \n",
       "786  This research note deals with the role of the ...   \n",
       "787  This article analyses existing assumptions abo...   \n",
       "788  This paper explores a central question in soci...   \n",
       "\n",
       "                                         abstracts_nlp  \n",
       "0    (A, good, book, may, have, the, power, to, cha...  \n",
       "1                                                  NaN  \n",
       "2                                                  NaN  \n",
       "3    (L'A., soutient, que, les, phenomenes, culture...  \n",
       "4                                                  NaN  \n",
       "..                                                 ...  \n",
       "784  (Plantations, ,, especially, sugar, plantation...  \n",
       "785  (We, developed, a, conceptual, framework, to, ...  \n",
       "786  (This, research, note, deals, with, the, role,...  \n",
       "787  (This, article, analyses, existing, assumption...  \n",
       "788  (This, paper, explores, a, central, question, ...  \n",
       "\n",
       "[789 rows x 5 columns]"
      ]
     },
     "execution_count": 137,
     "metadata": {},
     "output_type": "execute_result"
    }
   ],
   "source": [
    "abstracts "
   ]
  },
  {
   "cell_type": "code",
   "execution_count": 138,
   "metadata": {},
   "outputs": [
    {
     "data": {
      "text/plain": [
       "float"
      ]
     },
     "execution_count": 138,
     "metadata": {},
     "output_type": "execute_result"
    }
   ],
   "source": [
    "type(abstracts[\"abstracts_nlp\"][1]) "
   ]
  },
  {
   "cell_type": "code",
   "execution_count": 139,
   "metadata": {},
   "outputs": [],
   "source": [
    "abstracts[\"abstracts_nlp\"] = abstracts[\"abstracts_nlp\"].apply(lambda x: \" \".join([token.text for token in x if not token.is_stop]) if not type(x)==float else x)\n",
    "abstracts[\"abstracts_nlp\"] = abstracts[\"abstracts_nlp\"].apply(lambda x: nlp(x) if type(x)==str else x)"
   ]
  },
  {
   "cell_type": "code",
   "execution_count": 140,
   "metadata": {},
   "outputs": [
    {
     "data": {
      "text/plain": [
       "id                                                     W4383896166\n",
       "issn                                                     0094-0496\n",
       "author           ['René D. Flores', 'Maria Vignau Loria', 'Regi...\n",
       "abstract         Ethnic boundary crossing takes two different f...\n",
       "abstracts_nlp    (Ethnic, boundary, crossing, takes, different,...\n",
       "Name: 597, dtype: object"
      ]
     },
     "execution_count": 140,
     "metadata": {},
     "output_type": "execute_result"
    }
   ],
   "source": [
    "abstracts.iloc[597]"
   ]
  },
  {
   "cell_type": "code",
   "execution_count": 141,
   "metadata": {},
   "outputs": [
    {
     "name": "stdout",
     "output_type": "stream",
     "text": [
      "Ethnic boundary crossing takes different forms distinct triggers , traits , potential outcomes : transitory crossing , typically short - term , reversible , triggered microcontextual cues , durable crossing , longer - lasting , gradual process motivated macropolitical forces social movements government policies . theoretical distinction helps explain unexpected growth long stigmatized self - identified indigenous population Mexico , tripled 2000 . demographic projection model , authors find natural demographic processes contributed little sudden growth . Instead , experimental census data , find transitory crossing indigenous category activated phrasing changes 2010 census identification question . authors theorize durable crossing simultaneously activated growing salience indigenous movement Mexican government embrace multiculturalism . political factors appear shaping social meaning indigeneity .\n"
     ]
    },
    {
     "data": {
      "text/plain": [
       "spacy.tokens.doc.Doc"
      ]
     },
     "execution_count": 141,
     "metadata": {},
     "output_type": "execute_result"
    }
   ],
   "source": [
    "print(abstracts.iloc[597][\"abstracts_nlp\"])\n",
    "type(abstracts.iloc[597][\"abstracts_nlp\"])"
   ]
  },
  {
   "cell_type": "code",
   "execution_count": 143,
   "metadata": {},
   "outputs": [
    {
     "data": {
      "text/plain": [
       "0.4633242276613664"
      ]
     },
     "execution_count": 143,
     "metadata": {},
     "output_type": "execute_result"
    }
   ],
   "source": [
    "abstracts.iloc[597][\"abstracts_nlp\"].similarity(abstracts.iloc[3][\"abstracts_nlp\"])"
   ]
  },
  {
   "cell_type": "code",
   "execution_count": 149,
   "metadata": {},
   "outputs": [
    {
     "data": {
      "text/plain": [
       "0      0.954402\n",
       "1           NaN\n",
       "2           NaN\n",
       "3      0.463324\n",
       "4           NaN\n",
       "         ...   \n",
       "784    0.969928\n",
       "785    0.901563\n",
       "786    0.934366\n",
       "787    0.965562\n",
       "788    0.957251\n",
       "Name: abstracts_nlp, Length: 789, dtype: float64"
      ]
     },
     "execution_count": 149,
     "metadata": {},
     "output_type": "execute_result"
    }
   ],
   "source": [
    "abstracts[\"abstracts_nlp\"].apply(lambda x: abstracts.iloc[597][\"abstracts_nlp\"].similarity(x) if not type(x)==float else x)\n",
    "\n",
    "#similarities = [abstracts.iloc[597][\"abstracts_nlp\"].similarity(abstracts.iloc[i][\"abstracts_nlp\"]) for i in range(len(abstracts[\"abstracts_nlp\"])) if not None]"
   ]
  },
  {
   "cell_type": "code",
   "execution_count": 289,
   "metadata": {},
   "outputs": [
    {
     "data": {
      "text/plain": [
       "0.96926846713953"
      ]
     },
     "execution_count": 289,
     "metadata": {},
     "output_type": "execute_result"
    }
   ],
   "source": [
    "similarities[73]"
   ]
  },
  {
   "cell_type": "code",
   "execution_count": 266,
   "metadata": {},
   "outputs": [
    {
     "data": {
      "text/plain": [
       "<Axes: ylabel='Count'>"
      ]
     },
     "execution_count": 266,
     "metadata": {},
     "output_type": "execute_result"
    },
    {
     "data": {
      "image/png": "[encoded data removed]",
      "text/plain": [
       "<Figure size 640x480 with 1 Axes>"
      ]
     },
     "metadata": {},
     "output_type": "display_data"
    }
   ],
   "source": [
    "import seaborn as sns\n",
    "sns.histplot(similarities)"
   ]
  },
  {
   "cell_type": "code",
   "execution_count": 287,
   "metadata": {},
   "outputs": [
    {
     "name": "stdout",
     "output_type": "stream",
     "text": [
      "[0, 24, 50, 48, 73, 10, 22, 13, 2, 20]\n"
     ]
    },
    {
     "data": {
      "text/plain": [
       "[{'id': 'W2130354913',\n",
       "  'abstract': Similarity breeds connection . principle — homophily principle — structures network ties type , including marriage , friendship , work , advice , support , information transfer , exchange , comembership , types relationship . result people personal networks homogeneous regard sociodemographic , behavioral , intrapersonal characteristics . Homophily limits people social worlds way powerful implications information receive , attitudes form , interactions experience . Homophily race ethnicity creates strongest divides personal environments , age , religion , education , occupation , gender following roughly order . Geographic propinquity , families , organizations , isomorphic positions social systems create contexts homophilous relations form . Ties nonsimilar individuals dissolve higher rate , sets stage formation niches ( localized positions ) social space . argue research : ( ) basic ecological processes link organizations , associations , cultural communities , social movements , social forms ; ( b ) impact multiplex ties patterns homophily ; ( c ) dynamics network change time networks social entities co - evolve .},\n",
       " {'id': 'W1538773685',\n",
       "  'abstract': general problem stated follows : having given number instances respectively things , , , , required eliminate general quantitative relativity inhering mere thingness things , determine special quantitative relativity subsisting thusness soness things .},\n",
       " {'id': 'W2136048895',\n",
       "  'abstract': \" characteristics play role choice spouse , sociologists examined endogamy homogamy respect race / ethnicity , religion , socioeconomic status .... summarize empirical research answering questions : ( ) extent groups endogamous groups differ respect ? ( b ) endogamy changed time ? ( c ) factors related endogamy ? ( d ) dimensions partner choice coincide ? [ ] discuss strengths weaknesses past research . \"},\n",
       " {'id': 'W2033249282',\n",
       "  'abstract': generate number hypotheses face - - face groups energy distribution principle : frequency event inversely related energy expended event . principle predicts ( 1 ) size groups inversely related frequency occurrence ; ( 2 ) group size , composition social positions heterogeneous chance ; , ( 3 ) group size increases , observed compositional homogeneity decline slower rate chance . test hypotheses data 100,000 naturally occurrin & public , face - - face groups gathered sampling sweeps communities - year period . data support hypotheses yield interesting differences strength sex race heterogeneity . discuss thefindings relate general energy distribution principle sociological perspectives .},\n",
       " {'id': 'W2075053105',\n",
       "  'abstract': partir des donnees de 1985 , les AA . etudient dans un premier temps les facteurs qui soulignent la propension chez les Americains maries inclure leur epouse comme membre de leurs reseaux de discussion et dans un deuxieme temps les facteurs qui montrent leur propension nommer leur epouse comme la premiere , et probablement la plus importante , personne de leur reseau},\n",
       " {'id': 'W1766032796', 'abstract': None},\n",
       " {'id': 'W1967487613',\n",
       "  'abstract': accounts changes social composition occupations time ? address question adapting ecological theory competition McPherson ( 1983 ) . theory suggests occupations compete members niche space defined social composition occupations members . occupation successfully acquires retains new people different sociodemographic characteristics , occupations experience shifts sociodemographic composition . Current Population Survey Annual Demographic Files ( 1972–82 ) , test dynamic hypotheses changes age education composition occupations . data strongly support theory . ask dynamics apply professions occupations . data suggest professional closure limits movement professions education dimension .},\n",
       " {'id': 'W1964304794',\n",
       "  'abstract': personal networks attitudes clients unique set bureaucratic professionals - corporate giving officers - examined . Motivated finding corporate support nonprofit function firm reputation contributions professionals ( Galaskiewicz , 1985 ) , paper examines structure professionals ' networks tests proximity results giving officers recognizing andlor thinking nonprofits community . Data analyzedfrom survey 150 publicly - held business corporations Minneapolis - St. Paul metro area . proximate officers network , likely evaluate prospective donees way . Professional associations indirect effect giving officers evaluated nonprofits actors belonged association proximate contact network . Highly professionalized contributions staff different firms tended recognize nonprofits task environment , independent proximity network . Finally , job status indirect effect staff evaluated nonprofits . conditions environmental uncertainty , officers members professional association , job status influenced proximity network . job status , professional associations , proximity professional network way effect knowledge evaluations giving officers case study .},\n",
       " {'id': 'W1997733761',\n",
       "  'abstract': Aspects interpersonal networks Americans discuss important matters examined data 1985 General Social Survey . survey network data representative American population . networks small , kin - centered , relatively dense , homogeneous comparison sample respondents . Bivariate examination subgroup differences age , education , racelethnicity , sex , size place indicates network range greatest young , highly educated , metropolitan residents . Sex differences consist primarily differences kin / nonkin composition networks .},\n",
       " {'id': 'W1970278917',\n",
       "  'abstract': study provides developmental analysis childhood adolescent social relationships school context . social groups 220 fourth graders 475 seventh graders tracked year interval . initial results indicated approximately 30 % social groups identified stable maintained 50 % membership year interval . , stability group affiliations function stability composition classroom . schools promote classrooms unit , 6.8 % social groups stable , compared 55 % groups stable school promote classrooms unit . school effect group stability demonstrated high correlation ( rs = .97 ) classroom stability group stability . unstable classrooms , individuals likely maintain affiliations group members assigned classroom . work suggests stable environments promote stable relationships , turn , promote greater continuity organization behavioral patterns .}]"
      ]
     },
     "execution_count": 287,
     "metadata": {},
     "output_type": "execute_result"
    }
   ],
   "source": [
    "abstracts_nlp[0:10]\n",
    "\n",
    "\n",
    "print(sorted(range(len(similarities)), key=lambda i: similarities[i], reverse=True)[:10])\n",
    "\n",
    "\n",
    "list(abstracts_nlp[i] for i in [0, 24, 50, 48, 73, 10, 22, 13, 2, 20] )"
   ]
  },
  {
   "cell_type": "code",
   "execution_count": 290,
   "metadata": {},
   "outputs": [
    {
     "data": {
      "text/plain": [
       "{'id': 'W2094961855',\n",
       " 'abstract': theorems derived Blau recent macrosociological theory social structure tested data intergroup criminal victimization United States . data base taken National Crime Survey ( Ncs ) national samplefor years 1973 1978 . theoretical predictions tested ( 1 ) relative size group different neighborhood contexts inversely related extent outgroup victimization ; ( 2 ) neighborhood heterogeneity positively related rates intergroup victimization . predictions tested data interpersonal crimes rape , robbery , assault , larceny major parameters Blau theory - race age . results support hypotheses ingroup victimization highly prevalent United States , interracial interage criminal encounters strongly positively related neighborhood heterogeneity .}"
      ]
     },
     "execution_count": 290,
     "metadata": {},
     "output_type": "execute_result"
    }
   ],
   "source": [
    "abstracts_nlp[similarities.index(min(similarities))]"
   ]
  },
  {
   "cell_type": "code",
   "execution_count": null,
   "metadata": {},
   "outputs": [],
   "source": []
  }
 ],
 "metadata": {
  "kernelspec": {
   "display_name": "reviewerSelection",
   "language": "python",
   "name": "python3"
  },
  "language_info": {
   "codemirror_mode": {
    "name": "ipython",
    "version": 3
   },
   "file_extension": ".py",
   "mimetype": "text/x-python",
   "name": "python",
   "nbconvert_exporter": "python",
   "pygments_lexer": "ipython3",
   "version": "3.10.6"
  },
  "orig_nbformat": 4
 },
 "nbformat": 4,
 "nbformat_minor": 2
}
