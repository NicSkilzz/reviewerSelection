{
 "cells": [
  {
   "cell_type": "markdown",
   "metadata": {},
   "source": [
    "## extract two levels of references from the \"all_works_sociology.csv\""
   ]
  },
  {
   "cell_type": "code",
   "execution_count": 1,
   "metadata": {},
   "outputs": [],
   "source": [
    "import pandas as pd"
   ]
  },
  {
   "cell_type": "code",
   "execution_count": 2,
   "metadata": {},
   "outputs": [],
   "source": [
    "all_sociology_works_df = pd.read_csv(\"../raw_data/all_sociology_works.csv\") "
   ]
  },
  {
   "cell_type": "code",
   "execution_count": 3,
   "metadata": {},
   "outputs": [
    {
     "name": "stdout",
     "output_type": "stream",
     "text": [
      "<class 'str'>\n"
     ]
    },
    {
     "data": {
      "text/html": [
       "<div>\n",
       "<style scoped>\n",
       "    .dataframe tbody tr th:only-of-type {\n",
       "        vertical-align: middle;\n",
       "    }\n",
       "\n",
       "    .dataframe tbody tr th {\n",
       "        vertical-align: top;\n",
       "    }\n",
       "\n",
       "    .dataframe thead th {\n",
       "        text-align: right;\n",
       "    }\n",
       "</style>\n",
       "<table border=\"1\" class=\"dataframe\">\n",
       "  <thead>\n",
       "    <tr style=\"text-align: right;\">\n",
       "      <th></th>\n",
       "      <th>oa_id</th>\n",
       "      <th>year</th>\n",
       "      <th>language</th>\n",
       "      <th>journal_issn</th>\n",
       "      <th>journal_name</th>\n",
       "      <th>authors</th>\n",
       "      <th>author_institutions</th>\n",
       "      <th>concepts</th>\n",
       "      <th>referenced_works</th>\n",
       "      <th>related_works</th>\n",
       "      <th>abstracts</th>\n",
       "      <th>works_referenced_related</th>\n",
       "    </tr>\n",
       "  </thead>\n",
       "  <tbody>\n",
       "    <tr>\n",
       "      <th>0</th>\n",
       "      <td>W2060041453</td>\n",
       "      <td>1999</td>\n",
       "      <td>fr</td>\n",
       "      <td>0160-7383</td>\n",
       "      <td>Annals of Tourism Research</td>\n",
       "      <td>['Seyhmus Baloglu', 'Ken W. McCleary']</td>\n",
       "      <td>['University of Nevada, Las Vegas', 'Virginia ...</td>\n",
       "      <td>[{'display_name': 'Destination image', 'level'...</td>\n",
       "      <td>['https://openalex.org/W1551659116', 'https://...</td>\n",
       "      <td>['https://openalex.org/W642833299', 'https://o...</td>\n",
       "      <td>Image has been shown to be an important influe...</td>\n",
       "      <td>['W1551659116', 'W1554035063', 'W1930240810', ...</td>\n",
       "    </tr>\n",
       "    <tr>\n",
       "      <th>1</th>\n",
       "      <td>W2137040040</td>\n",
       "      <td>1999</td>\n",
       "      <td>en</td>\n",
       "      <td>0160-7383</td>\n",
       "      <td>Annals of Tourism Research</td>\n",
       "      <td>['Ning Wang']</td>\n",
       "      <td>['Zhongshan Hospital']</td>\n",
       "      <td>[{'display_name': 'Tourism', 'level': 2, 'scor...</td>\n",
       "      <td>['https://openalex.org/W12139949', 'https://op...</td>\n",
       "      <td>['https://openalex.org/W232595385', 'https://o...</td>\n",
       "      <td>Abstract This paper aims at a conceptual clari...</td>\n",
       "      <td>['W12139949', 'W169769535', 'W236608154', 'W28...</td>\n",
       "    </tr>\n",
       "  </tbody>\n",
       "</table>\n",
       "</div>"
      ],
      "text/plain": [
       "         oa_id  year language journal_issn                journal_name  \\\n",
       "0  W2060041453  1999       fr    0160-7383  Annals of Tourism Research   \n",
       "1  W2137040040  1999       en    0160-7383  Annals of Tourism Research   \n",
       "\n",
       "                                  authors  \\\n",
       "0  ['Seyhmus Baloglu', 'Ken W. McCleary']   \n",
       "1                           ['Ning Wang']   \n",
       "\n",
       "                                 author_institutions  \\\n",
       "0  ['University of Nevada, Las Vegas', 'Virginia ...   \n",
       "1                             ['Zhongshan Hospital']   \n",
       "\n",
       "                                            concepts  \\\n",
       "0  [{'display_name': 'Destination image', 'level'...   \n",
       "1  [{'display_name': 'Tourism', 'level': 2, 'scor...   \n",
       "\n",
       "                                    referenced_works  \\\n",
       "0  ['https://openalex.org/W1551659116', 'https://...   \n",
       "1  ['https://openalex.org/W12139949', 'https://op...   \n",
       "\n",
       "                                       related_works  \\\n",
       "0  ['https://openalex.org/W642833299', 'https://o...   \n",
       "1  ['https://openalex.org/W232595385', 'https://o...   \n",
       "\n",
       "                                           abstracts  \\\n",
       "0  Image has been shown to be an important influe...   \n",
       "1  Abstract This paper aims at a conceptual clari...   \n",
       "\n",
       "                            works_referenced_related  \n",
       "0  ['W1551659116', 'W1554035063', 'W1930240810', ...  \n",
       "1  ['W12139949', 'W169769535', 'W236608154', 'W28...  "
      ]
     },
     "execution_count": 3,
     "metadata": {},
     "output_type": "execute_result"
    }
   ],
   "source": [
    "print(type(all_sociology_works_df[\"works_referenced_related\"][0]))\n",
    "all_sociology_works_df[:2] "
   ]
  },
  {
   "cell_type": "code",
   "execution_count": 4,
   "metadata": {},
   "outputs": [
    {
     "data": {
      "text/plain": [
       "(268998, 12)"
      ]
     },
     "execution_count": 4,
     "metadata": {},
     "output_type": "execute_result"
    }
   ],
   "source": [
    "all_sociology_works_df.shape"
   ]
  },
  {
   "cell_type": "code",
   "execution_count": 9,
   "metadata": {},
   "outputs": [
    {
     "name": "stdout",
     "output_type": "stream",
     "text": [
      "<class 'list'>\n"
     ]
    }
   ],
   "source": [
    "#all_sociology_works_df[\"works_referenced_related\"] = all_sociology_works_df[\"works_referenced_related\"].apply(lambda x: x.replace('[', '').replace(']', '').replace(',', '').replace(\"'\", \"\").split(' ')) \n",
    "#print(type(all_sociology_works_df[\"works_referenced_related\"][0]))"
   ]
  },
  {
   "cell_type": "code",
   "execution_count": 34,
   "metadata": {},
   "outputs": [
    {
     "data": {
      "text/plain": [
       "(789,)"
      ]
     },
     "execution_count": 34,
     "metadata": {},
     "output_type": "execute_result"
    }
   ],
   "source": [
    "oa_id_list = pd.read_csv(\"../raw_data/abstracts_from_W4383896166.csv\")[\"oa_id\"]\n",
    "oa_id_list.shape"
   ]
  },
  {
   "cell_type": "code",
   "execution_count": 35,
   "metadata": {},
   "outputs": [
    {
     "name": "stderr",
     "output_type": "stream",
     "text": [
      "/var/folders/vf/x95d87656637nrmf6kfvl8qc0000gn/T/ipykernel_96497/3059941659.py:8: SettingWithCopyWarning: \n",
      "A value is trying to be set on a copy of a slice from a DataFrame.\n",
      "Try using .loc[row_indexer,col_indexer] = value instead\n",
      "\n",
      "See the caveats in the documentation: https://pandas.pydata.org/pandas-docs/stable/user_guide/indexing.html#returning-a-view-versus-a-copy\n",
      "  first_layer[\"works_referenced_related\"] = first_layer[\"works_referenced_related\"].apply(lambda x: x.replace('[', '').replace(']', '').replace(',', '').replace(\"'\", \"\").split(' '))\n"
     ]
    },
    {
     "data": {
      "text/html": [
       "<div>\n",
       "<style scoped>\n",
       "    .dataframe tbody tr th:only-of-type {\n",
       "        vertical-align: middle;\n",
       "    }\n",
       "\n",
       "    .dataframe tbody tr th {\n",
       "        vertical-align: top;\n",
       "    }\n",
       "\n",
       "    .dataframe thead th {\n",
       "        text-align: right;\n",
       "    }\n",
       "</style>\n",
       "<table border=\"1\" class=\"dataframe\">\n",
       "  <thead>\n",
       "    <tr style=\"text-align: right;\">\n",
       "      <th></th>\n",
       "      <th>oa_id</th>\n",
       "      <th>year</th>\n",
       "      <th>language</th>\n",
       "      <th>journal_issn</th>\n",
       "      <th>journal_name</th>\n",
       "      <th>authors</th>\n",
       "      <th>author_institutions</th>\n",
       "      <th>concepts</th>\n",
       "      <th>referenced_works</th>\n",
       "      <th>related_works</th>\n",
       "      <th>abstracts</th>\n",
       "      <th>works_referenced_related</th>\n",
       "    </tr>\n",
       "  </thead>\n",
       "  <tbody>\n",
       "    <tr>\n",
       "      <th>3683</th>\n",
       "      <td>W3122383732</td>\n",
       "      <td>2002</td>\n",
       "      <td>en</td>\n",
       "      <td>0360-0572</td>\n",
       "      <td>Annual Review of Sociology</td>\n",
       "      <td>['Michèle Lamont', 'Virág Molnár']</td>\n",
       "      <td>['Princeton University', 'Princeton University']</td>\n",
       "      <td>[{'display_name': 'Sociology', 'level': 0, 'sc...</td>\n",
       "      <td>['https://openalex.org/W5387865', 'https://ope...</td>\n",
       "      <td>['https://openalex.org/W1950322388', 'https://...</td>\n",
       "      <td>▪ Abstract In recent years, the concept of bou...</td>\n",
       "      <td>[W5387865, W44464140, W190026790, W269856819, ...</td>\n",
       "    </tr>\n",
       "    <tr>\n",
       "      <th>3684</th>\n",
       "      <td>W2104190044</td>\n",
       "      <td>1997</td>\n",
       "      <td>en</td>\n",
       "      <td>0360-0572</td>\n",
       "      <td>Annual Review of Sociology</td>\n",
       "      <td>['Paul DiMaggio']</td>\n",
       "      <td>['Princeton University']</td>\n",
       "      <td>[{'display_name': 'Cognition', 'level': 2, 'sc...</td>\n",
       "      <td>['https://openalex.org/W219670898', 'https://o...</td>\n",
       "      <td>['https://openalex.org/W195840489', 'https://o...</td>\n",
       "      <td>Recent work in cognitive psychology and social...</td>\n",
       "      <td>[W219670898, W1830402048, W1914836431, W196527...</td>\n",
       "    </tr>\n",
       "  </tbody>\n",
       "</table>\n",
       "</div>"
      ],
      "text/plain": [
       "            oa_id  year language journal_issn                journal_name  \\\n",
       "3683  W3122383732  2002       en    0360-0572  Annual Review of Sociology   \n",
       "3684  W2104190044  1997       en    0360-0572  Annual Review of Sociology   \n",
       "\n",
       "                                 authors  \\\n",
       "3683  ['Michèle Lamont', 'Virág Molnár']   \n",
       "3684                   ['Paul DiMaggio']   \n",
       "\n",
       "                                   author_institutions  \\\n",
       "3683  ['Princeton University', 'Princeton University']   \n",
       "3684                          ['Princeton University']   \n",
       "\n",
       "                                               concepts  \\\n",
       "3683  [{'display_name': 'Sociology', 'level': 0, 'sc...   \n",
       "3684  [{'display_name': 'Cognition', 'level': 2, 'sc...   \n",
       "\n",
       "                                       referenced_works  \\\n",
       "3683  ['https://openalex.org/W5387865', 'https://ope...   \n",
       "3684  ['https://openalex.org/W219670898', 'https://o...   \n",
       "\n",
       "                                          related_works  \\\n",
       "3683  ['https://openalex.org/W1950322388', 'https://...   \n",
       "3684  ['https://openalex.org/W195840489', 'https://o...   \n",
       "\n",
       "                                              abstracts  \\\n",
       "3683  ▪ Abstract In recent years, the concept of bou...   \n",
       "3684  Recent work in cognitive psychology and social...   \n",
       "\n",
       "                               works_referenced_related  \n",
       "3683  [W5387865, W44464140, W190026790, W269856819, ...  \n",
       "3684  [W219670898, W1830402048, W1914836431, W196527...  "
      ]
     },
     "execution_count": 35,
     "metadata": {},
     "output_type": "execute_result"
    }
   ],
   "source": [
    "def extract_works_cited_by_target(all_sociology_works_df, target_oa_ids):\n",
    "    '''\n",
    "    create a csv of \n",
    "    '''\n",
    "    # filter all sociology works by openalex ids from the target manuscript\n",
    "    first_layer = all_sociology_works_df[all_sociology_works_df[\"oa_id\"].isin(target_oa_ids)]\n",
    "    # turn references from string to list \n",
    "    first_layer[\"works_referenced_related\"] = first_layer[\"works_referenced_related\"].apply(lambda x: x.replace('[', '').replace(']', '').replace(',', '').replace(\"'\", \"\").split(' ')) \n",
    "\n",
    "    # combine all first layer references into one list and filter all sociology works again  \n",
    "    combined_refs = [item for list in first_layer[\"works_referenced_related\"] for item in list] \n",
    "    second_layer = all_sociology_works_df[all_sociology_works_df[\"oa_id\"].isin(combined_refs)]\n",
    "    return pd.concat((first_layer, second_layer), axis = 0)\n",
    "\n",
    "tmp = extract_works_cited_by_target(all_sociology_works_df, oa_id_list)\n",
    "tmp[:2]"
   ]
  },
  {
   "cell_type": "code",
   "execution_count": 36,
   "metadata": {},
   "outputs": [
    {
     "data": {
      "text/plain": [
       "(965, 12)"
      ]
     },
     "execution_count": 36,
     "metadata": {},
     "output_type": "execute_result"
    }
   ],
   "source": [
    "tmp.shape"
   ]
  }
 ],
 "metadata": {
  "kernelspec": {
   "display_name": "reviewerSelection",
   "language": "python",
   "name": "python3"
  },
  "language_info": {
   "codemirror_mode": {
    "name": "ipython",
    "version": 3
   },
   "file_extension": ".py",
   "mimetype": "text/x-python",
   "name": "python",
   "nbconvert_exporter": "python",
   "pygments_lexer": "ipython3",
   "version": "3.10.6"
  },
  "orig_nbformat": 4
 },
 "nbformat": 4,
 "nbformat_minor": 2
}
