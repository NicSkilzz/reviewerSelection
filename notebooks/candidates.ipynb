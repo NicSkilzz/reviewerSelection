{
 "cells": [
  {
   "cell_type": "code",
   "execution_count": 44,
   "metadata": {},
   "outputs": [],
   "source": [
    "temp = oa_id_list"
   ]
  },
  {
   "cell_type": "code",
   "execution_count": 57,
   "metadata": {},
   "outputs": [
    {
     "data": {
      "text/plain": [
       "['https://openalex.org/W1985814542',\n",
       " 'https://openalex.org/W2089123513',\n",
       " 'https://openalex.org/W2953072907',\n",
       " 'https://openalex.org/W2088230841',\n",
       " 'https://openalex.org/W2511661767',\n",
       " 'https://openalex.org/W3121567788',\n",
       " 'https://openalex.org/W2011443643',\n",
       " 'https://openalex.org/W1560783210',\n",
       " 'https://openalex.org/W1981083189',\n",
       " 'https://openalex.org/W2023783748',\n",
       " 'https://openalex.org/W1767272795',\n",
       " 'https://openalex.org/W2015134878',\n",
       " 'https://openalex.org/W2306268324',\n",
       " 'https://openalex.org/W2737712680',\n",
       " 'https://openalex.org/W2951351472',\n",
       " 'https://openalex.org/W2040069617',\n",
       " 'https://openalex.org/W2048185449',\n",
       " 'https://openalex.org/W2588027260',\n",
       " 'https://openalex.org/W2952984634',\n",
       " 'https://openalex.org/W2124116191',\n",
       " 'https://openalex.org/W2785823074',\n",
       " 'https://openalex.org/W1976396629',\n",
       " 'https://openalex.org/W2020874028',\n",
       " 'https://openalex.org/W4252798611',\n",
       " 'https://openalex.org/W2039146085',\n",
       " 'https://openalex.org/W2020123068',\n",
       " 'https://openalex.org/W2016860460',\n",
       " 'https://openalex.org/W2140880926',\n",
       " 'https://openalex.org/W4240507605',\n",
       " 'https://openalex.org/W2069656088',\n",
       " 'https://openalex.org/W2061451796',\n",
       " 'https://openalex.org/W1957687230',\n",
       " 'https://openalex.org/W2322381034',\n",
       " 'https://openalex.org/W2089745446',\n",
       " 'https://openalex.org/W2950890478',\n",
       " 'https://openalex.org/W2587705861',\n",
       " 'https://openalex.org/W1970217003',\n",
       " 'https://openalex.org/W2100379340',\n",
       " 'https://openalex.org/W2145046628',\n",
       " 'https://openalex.org/W4291732787',\n",
       " 'https://openalex.org/W2231201268',\n",
       " 'https://openalex.org/W4254015553',\n",
       " 'https://openalex.org/W2345375849',\n",
       " 'https://openalex.org/W2997143876',\n",
       " 'https://openalex.org/W4232875366',\n",
       " 'https://openalex.org/W1842065797',\n",
       " 'https://openalex.org/W2078310052',\n",
       " 'https://openalex.org/W2088909840',\n",
       " 'https://openalex.org/W2134049161',\n",
       " 'https://openalex.org/W2463568293',\n",
       " 'https://openalex.org/W2058954808',\n",
       " 'https://openalex.org/W2010041172',\n",
       " 'https://openalex.org/W2100117397',\n",
       " 'https://openalex.org/W2137725064',\n",
       " 'https://openalex.org/W2006972602',\n",
       " 'https://openalex.org/W2089604928',\n",
       " 'https://openalex.org/W1997125517',\n",
       " 'https://openalex.org/W2063332351',\n",
       " 'https://openalex.org/W2003844967',\n",
       " 'https://openalex.org/W2054299130',\n",
       " 'https://openalex.org/W2753353163',\n",
       " 'https://openalex.org/W4298108315',\n",
       " 'https://openalex.org/W1724212071',\n",
       " 'https://openalex.org/W2029057325',\n",
       " 'https://openalex.org/W2020807482',\n",
       " 'https://openalex.org/W3147537460',\n",
       " 'https://openalex.org/W2096345420',\n",
       " 'https://openalex.org/W2031754690',\n",
       " 'https://openalex.org/W4229617755',\n",
       " 'https://openalex.org/W2160597895',\n",
       " 'https://openalex.org/W2088209891',\n",
       " 'https://openalex.org/W2520991028',\n",
       " 'https://openalex.org/W2563251083',\n",
       " 'https://openalex.org/W1907242353',\n",
       " 'https://openalex.org/W1987360189',\n",
       " 'https://openalex.org/W2343014812',\n",
       " 'https://openalex.org/W2115339903',\n",
       " 'https://openalex.org/W2002034968',\n",
       " 'https://openalex.org/W2566143661']"
      ]
     },
     "execution_count": 57,
     "metadata": {},
     "output_type": "execute_result"
    }
   ],
   "source": [
    "temp"
   ]
  },
  {
   "cell_type": "code",
   "execution_count": 56,
   "metadata": {},
   "outputs": [
    {
     "name": "stdout",
     "output_type": "stream",
     "text": [
      "1\n",
      "2\n",
      "3\n",
      "4\n",
      "4\n",
      "79\n",
      "964\n"
     ]
    }
   ],
   "source": [
    "from pyalex import Works\n",
    "import pandas as pd\n",
    "\n",
    "'''oa_id_list = [\"W2741809807\", \"W1560783210\", \"W2029057325\", \"W2160597895\",\n",
    "              \"W2741809807\", \"W1560783210\", \"W2029057325\", \"W2160597895\",\n",
    "              \"W2741809807\", \"W1560783210\", \"W2029057325\", \"W2160597895\",\n",
    "              \"W2741809807\", \"W1560783210\", \"W2029057325\", \"W2160597895\",\n",
    "              \"W2741809807\", \"W1560783210\", \"W2029057325\", \"W2160597895\",\n",
    "              \"W2741809807\", \"W1560783210\", \"W2029057325\", \"W2160597895\",\n",
    "              \"W2741809807\", \"W1560783210\", \"W2029057325\", \"W2160597895\",\n",
    "              \"W2741809807\", \"W1560783210\", \"W2029057325\", \"W2160597895\",\n",
    "              \"W2741809807\", \"W1560783210\", \"W2029057325\", \"W2160597895\",\n",
    "              \"W2741809807\", \"W1560783210\", \"W2029057325\", \"W2160597895\",\n",
    "              \"W2741809807\", \"W1560783210\", \"W2029057325\", \"W2160597895\",\n",
    "              \"W2741809807\", \"W1560783210\", \"W2029057325\", \"W2160597895\",\n",
    "              \"W2741809807\", \"W1560783210\", \"W2029057325\", \"W2160597895\",\n",
    "              \"W2741809807\", \"W1560783210\", \"W2029057325\", \"W2160597895\",\n",
    "              \"W2741809807\", \"W1560783210\", \"W2029057325\", \"W2160597895\",\n",
    "              \"W2741809807\", \"W1560783210\", \"W2029057325\", \"W2160597895\",\n",
    "              \"W2741809807\", \"W1560783210\", \"W2029057325\", \"W2160597895\",\n",
    "              \"W2741809807\", \"W1560783210\", \"W2029057325\", \"W2160597895\",\n",
    "              \"W2741809807\", \"W1560783210\", \"W2029057325\", \"W2160597895\",\n",
    "              \"W2741809807\", \"W1560783210\", \"W2029057325\", \"W2160597895\",\n",
    "              \"W2741809807\", \"W1560783210\", \"W2029057325\", \"W2160597895\",\n",
    "              \"W2741809807\", \"W1560783210\", \"W2029057325\", \"W2160597895\",\n",
    "              \"W2741809807\", \"W1560783210\", \"W2029057325\", \"W2160597895\",\n",
    "              \"W2741809807\", \"W1560783210\", \"W2029057325\", \"W2160597895\"]'''\n",
    "\n",
    "\n",
    "    \n",
    "'''first_layer = Works().filter(openalex=\"|\".join(oa_id_list)).get()\n",
    "first_layer = [ref[\"referenced_works\"] for ref in first_layer]\n",
    "first_layer = list(\n",
    "    {i for lists in first_layer for i in lists}\n",
    ")  # list comprehension returning a set\n",
    "'''\n",
    "\n",
    "\n",
    "#oa_id_list = [\"W2741809807\", \"W1560783210\", \"W2029057325\", \"W2160597895\"]\n",
    "\n",
    "oa_id_list = temp\n",
    "\n",
    "first_layer_full = []\n",
    "for ref in range(0, len(oa_id_list), 25):\n",
    "    subset = \"|\".join(oa_id_list[ref : ref + 25])\n",
    "    first_layer = Works().filter(openalex=subset).get()\n",
    "    first_layer = [ref[\"referenced_works\"] for ref in first_layer]\n",
    "    first_layer = list(\n",
    "        {i for lists in first_layer for i in lists}\n",
    "    )  # list comprehension returning a set\n",
    "    first_layer_full.append(first_layer)\n",
    "    print(len(first_layer_full))\n",
    "    \n",
    "first_layer_full.append(oa_id_list)\n",
    "\n",
    "first_layer_full = list(\n",
    "{i for lists in first_layer_full for i in lists}\n",
    ")  # list comprehension returning a set\n",
    "\n",
    "\n"
   ]
  },
  {
   "cell_type": "code",
   "execution_count": 53,
   "metadata": {},
   "outputs": [
    {
     "data": {
      "text/plain": [
       "955"
      ]
     },
     "execution_count": 53,
     "metadata": {},
     "output_type": "execute_result"
    }
   ],
   "source": [
    "len(final)\n",
    "\n"
   ]
  },
  {
   "cell_type": "code",
   "execution_count": 40,
   "metadata": {},
   "outputs": [],
   "source": [
    "oa_id_list = first_layer"
   ]
  },
  {
   "cell_type": "code",
   "execution_count": 24,
   "metadata": {},
   "outputs": [
    {
     "data": {
      "text/plain": [
       "['https://openalex.org/W2058954808',\n",
       " 'https://openalex.org/W2010041172',\n",
       " 'https://openalex.org/W2100117397',\n",
       " 'https://openalex.org/W2137725064',\n",
       " 'https://openalex.org/W2006972602',\n",
       " 'https://openalex.org/W2089604928',\n",
       " 'https://openalex.org/W1997125517',\n",
       " 'https://openalex.org/W2063332351',\n",
       " 'https://openalex.org/W2003844967',\n",
       " 'https://openalex.org/W2054299130',\n",
       " 'https://openalex.org/W2753353163',\n",
       " 'https://openalex.org/W4298108315',\n",
       " 'https://openalex.org/W1724212071',\n",
       " 'https://openalex.org/W2029057325',\n",
       " 'https://openalex.org/W2020807482',\n",
       " 'https://openalex.org/W3147537460',\n",
       " 'https://openalex.org/W2096345420',\n",
       " 'https://openalex.org/W2031754690',\n",
       " 'https://openalex.org/W4229617755',\n",
       " 'https://openalex.org/W2160597895',\n",
       " 'https://openalex.org/W2088209891',\n",
       " 'https://openalex.org/W2520991028',\n",
       " 'https://openalex.org/W2563251083',\n",
       " 'https://openalex.org/W1907242353',\n",
       " 'https://openalex.org/W1987360189']"
      ]
     },
     "execution_count": 24,
     "metadata": {},
     "output_type": "execute_result"
    }
   ],
   "source": [
    "oa_id_list[50:75]"
   ]
  },
  {
   "cell_type": "code",
   "execution_count": 14,
   "metadata": {},
   "outputs": [
    {
     "data": {
      "text/plain": [
       "0"
      ]
     },
     "execution_count": 14,
     "metadata": {},
     "output_type": "execute_result"
    }
   ],
   "source": [
    "ref"
   ]
  },
  {
   "cell_type": "code",
   "execution_count": 13,
   "metadata": {},
   "outputs": [
    {
     "data": {
      "text/plain": [
       "'https://openalex.org/W1985814542|https://openalex.org/W2089123513|https://openalex.org/W2953072907|https://openalex.org/W2088230841|https://openalex.org/W2511661767|https://openalex.org/W3121567788|https://openalex.org/W2011443643|https://openalex.org/W1560783210|https://openalex.org/W1981083189|https://openalex.org/W2023783748|https://openalex.org/W1767272795|https://openalex.org/W2015134878|https://openalex.org/W2306268324|https://openalex.org/W2737712680|https://openalex.org/W2951351472|https://openalex.org/W2040069617|https://openalex.org/W2048185449|https://openalex.org/W2588027260|https://openalex.org/W2952984634|https://openalex.org/W2124116191|https://openalex.org/W2785823074|https://openalex.org/W1976396629|https://openalex.org/W2020874028|https://openalex.org/W4252798611|https://openalex.org/W2039146085'"
      ]
     },
     "execution_count": 13,
     "metadata": {},
     "output_type": "execute_result"
    }
   ],
   "source": [
    "\"|\".join(oa_id_list[ref : ref + 25])"
   ]
  },
  {
   "cell_type": "code",
   "execution_count": 16,
   "metadata": {},
   "outputs": [
    {
     "name": "stdout",
     "output_type": "stream",
     "text": [
      "0\n",
      "25\n",
      "50\n",
      "75\n"
     ]
    }
   ],
   "source": [
    "from pyalex import Works\n",
    "import pandas as pd\n",
    "\n",
    "oa_id_list = [\"W2741809807\", \"W1560783210\", \"W2029057325\", \"W2160597895\"]\n",
    "\n",
    "first_layer = Works().filter(openalex=\"|\".join(oa_id_list)).get()\n",
    "first_layer = [ref[\"referenced_works\"] for ref in first_layer]\n",
    "first_layer = list(\n",
    "    {i for lists in first_layer for i in lists}\n",
    ")  # list comprehension returning a set\n",
    "\n",
    "## second layer\n",
    "second_layer = []\n",
    "for ref in range(0, len(first_layer), 25):\n",
    "    print(ref)\n",
    "    subset = \"|\".join(first_layer[ref : ref + 25])\n",
    "    second_layer.append(Works().filter(openalex=subset).get())\n",
    "\n",
    "final = [entry for lists in second_layer for entry in lists]\n",
    "\n",
    "\n"
   ]
  },
  {
   "cell_type": "code",
   "execution_count": 21,
   "metadata": {},
   "outputs": [],
   "source": [
    "oa_id_list = first_layer "
   ]
  },
  {
   "cell_type": "code",
   "execution_count": 59,
   "metadata": {},
   "outputs": [
    {
     "data": {
      "text/plain": [
       "list"
      ]
     },
     "execution_count": 59,
     "metadata": {},
     "output_type": "execute_result"
    }
   ],
   "source": [
    "type(final)"
   ]
  },
  {
   "cell_type": "code",
   "execution_count": 67,
   "metadata": {},
   "outputs": [],
   "source": [
    "final_df = pd.DataFrame(oa_id_list)"
   ]
  },
  {
   "cell_type": "code",
   "execution_count": 69,
   "metadata": {},
   "outputs": [],
   "source": [
    "final_df.to_csv(\"canttype.csv\")\n"
   ]
  },
  {
   "cell_type": "code",
   "execution_count": 64,
   "metadata": {},
   "outputs": [],
   "source": [
    "import csv\n",
    "with open('reference_oa_ids_example.csv', 'w', newline='') as f:\n",
    "    writer = csv.writer(f)\n",
    "    writer.writerows(oa_id_list)"
   ]
  },
  {
   "cell_type": "code",
   "execution_count": 63,
   "metadata": {},
   "outputs": [
    {
     "data": {
      "text/plain": [
       "['https://openalex.org/W1985814542',\n",
       " 'https://openalex.org/W2089123513',\n",
       " 'https://openalex.org/W2953072907',\n",
       " 'https://openalex.org/W2088230841',\n",
       " 'https://openalex.org/W2511661767',\n",
       " 'https://openalex.org/W3121567788',\n",
       " 'https://openalex.org/W2011443643',\n",
       " 'https://openalex.org/W1560783210',\n",
       " 'https://openalex.org/W1981083189',\n",
       " 'https://openalex.org/W2023783748',\n",
       " 'https://openalex.org/W1767272795',\n",
       " 'https://openalex.org/W2015134878',\n",
       " 'https://openalex.org/W2306268324',\n",
       " 'https://openalex.org/W2737712680',\n",
       " 'https://openalex.org/W2951351472',\n",
       " 'https://openalex.org/W2040069617',\n",
       " 'https://openalex.org/W2048185449',\n",
       " 'https://openalex.org/W2588027260',\n",
       " 'https://openalex.org/W2952984634',\n",
       " 'https://openalex.org/W2124116191',\n",
       " 'https://openalex.org/W2785823074',\n",
       " 'https://openalex.org/W1976396629',\n",
       " 'https://openalex.org/W2020874028',\n",
       " 'https://openalex.org/W4252798611',\n",
       " 'https://openalex.org/W2039146085',\n",
       " 'https://openalex.org/W2020123068',\n",
       " 'https://openalex.org/W2016860460',\n",
       " 'https://openalex.org/W2140880926',\n",
       " 'https://openalex.org/W4240507605',\n",
       " 'https://openalex.org/W2069656088',\n",
       " 'https://openalex.org/W2061451796',\n",
       " 'https://openalex.org/W1957687230',\n",
       " 'https://openalex.org/W2322381034',\n",
       " 'https://openalex.org/W2089745446',\n",
       " 'https://openalex.org/W2950890478',\n",
       " 'https://openalex.org/W2587705861',\n",
       " 'https://openalex.org/W1970217003',\n",
       " 'https://openalex.org/W2100379340',\n",
       " 'https://openalex.org/W2145046628',\n",
       " 'https://openalex.org/W4291732787',\n",
       " 'https://openalex.org/W2231201268',\n",
       " 'https://openalex.org/W4254015553',\n",
       " 'https://openalex.org/W2345375849',\n",
       " 'https://openalex.org/W2997143876',\n",
       " 'https://openalex.org/W4232875366',\n",
       " 'https://openalex.org/W1842065797',\n",
       " 'https://openalex.org/W2078310052',\n",
       " 'https://openalex.org/W2088909840',\n",
       " 'https://openalex.org/W2134049161',\n",
       " 'https://openalex.org/W2463568293',\n",
       " 'https://openalex.org/W2058954808',\n",
       " 'https://openalex.org/W2010041172',\n",
       " 'https://openalex.org/W2100117397',\n",
       " 'https://openalex.org/W2137725064',\n",
       " 'https://openalex.org/W2006972602',\n",
       " 'https://openalex.org/W2089604928',\n",
       " 'https://openalex.org/W1997125517',\n",
       " 'https://openalex.org/W2063332351',\n",
       " 'https://openalex.org/W2003844967',\n",
       " 'https://openalex.org/W2054299130',\n",
       " 'https://openalex.org/W2753353163',\n",
       " 'https://openalex.org/W4298108315',\n",
       " 'https://openalex.org/W1724212071',\n",
       " 'https://openalex.org/W2029057325',\n",
       " 'https://openalex.org/W2020807482',\n",
       " 'https://openalex.org/W3147537460',\n",
       " 'https://openalex.org/W2096345420',\n",
       " 'https://openalex.org/W2031754690',\n",
       " 'https://openalex.org/W4229617755',\n",
       " 'https://openalex.org/W2160597895',\n",
       " 'https://openalex.org/W2088209891',\n",
       " 'https://openalex.org/W2520991028',\n",
       " 'https://openalex.org/W2563251083',\n",
       " 'https://openalex.org/W1907242353',\n",
       " 'https://openalex.org/W1987360189',\n",
       " 'https://openalex.org/W2343014812',\n",
       " 'https://openalex.org/W2115339903',\n",
       " 'https://openalex.org/W2002034968',\n",
       " 'https://openalex.org/W2566143661']"
      ]
     },
     "execution_count": 63,
     "metadata": {},
     "output_type": "execute_result"
    }
   ],
   "source": [
    "oa_id_list"
   ]
  },
  {
   "cell_type": "code",
   "execution_count": 70,
   "metadata": {},
   "outputs": [
    {
     "ename": "TypeError",
     "evalue": "list indices must be integers or slices, not str",
     "output_type": "error",
     "traceback": [
      "\u001b[0;31m---------------------------------------------------------------------------\u001b[0m",
      "\u001b[0;31mTypeError\u001b[0m                                 Traceback (most recent call last)",
      "Cell \u001b[0;32mIn[70], line 1\u001b[0m\n\u001b[0;32m----> 1\u001b[0m final[\u001b[39m'\u001b[39;49m\u001b[39mabstract\u001b[39;49m\u001b[39m'\u001b[39;49m]\n",
      "\u001b[0;31mTypeError\u001b[0m: list indices must be integers or slices, not str"
     ]
    }
   ],
   "source": []
  }
 ],
 "metadata": {
  "kernelspec": {
   "display_name": "lewagon",
   "language": "python",
   "name": "python3"
  },
  "language_info": {
   "codemirror_mode": {
    "name": "ipython",
    "version": 3
   },
   "file_extension": ".py",
   "mimetype": "text/x-python",
   "name": "python",
   "nbconvert_exporter": "python",
   "pygments_lexer": "ipython3",
   "version": "3.10.6"
  },
  "orig_nbformat": 4
 },
 "nbformat": 4,
 "nbformat_minor": 2
}
