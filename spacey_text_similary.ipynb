{
 "cells": [
  {
   "cell_type": "code",
   "execution_count": 79,
   "metadata": {},
   "outputs": [],
   "source": [
    "# pip install spacy \n",
    "# python -m spacy download en_core_web_md\n",
    "\n",
    "import spacy"
   ]
  },
  {
   "cell_type": "code",
   "execution_count": null,
   "metadata": {},
   "outputs": [],
   "source": [
    "nlp = spacy.load('en_core_web_md')"
   ]
  },
  {
   "cell_type": "code",
   "execution_count": 248,
   "metadata": {},
   "outputs": [
    {
     "data": {
      "text/plain": [
       "[{'id': 'W1992496496',\n",
       "  'abstract': 'This study investigated the informal networks of white and minority managers. Minority managers had more racially heterogeneous and fewer intimate network relationships. Within the minority group, ...'},\n",
       " {'id': 'W1967272740',\n",
       "  'abstract': 'Legitimacy affects returns to social capital. I begin with the network structure of social capital, explaining the information and control benefits of structural holes. The holes in a network are enterpreneurial opportunities to add value, and persons rich in such opportunities are expected to be more successful than their peers. Accumulating empirical research supports the prediction. However, women here pose a puzzle. The entrepreneurial networks linked to early promotion for senior men do not work for women. Solving the gender puzzle is an occasion to see how network models of social capital can be used to identify people not accepted as legitimate members of a population, and to describe how such people get access to social capital by borrowing the network of a strategic partner.'},\n",
       " {'id': 'W2009294174',\n",
       "  'abstract': \"This article combines studies of transitivity and homophily in an empirical analysis of personal network integration. Using a national sample of individual's personal networks, the paper reveals that transitivity explains a majority of cases of network integration with two important caveats: (1) recent work on networks and social structure points to important structural constraints on personal networks that shape their formation, and (2) homophily (e.g. sex or race) and choice homophily (e.g. religion) improve the likelihood of integration in personal networks. The results indicate that the second finding interacts with relationship length and the availability of focal points to organize individual contact.\"},\n",
       " {'id': 'W1970602444',\n",
       "  'abstract': \"Are local ties important in personal community networks? Since local ties only make up a minority of people's active ties, network analysts have argued for decades that the neighborhood is not very important. Re-analysis of the Toronto data shows that when contacts become the unit of analysis instead of ties, the percentage of local relationships in active networks nearly doubles. Moreover, when we also take into account active contacts with coworkers, who like neighbors are physically proximate, we find that two-thirds of all contacts are ‘local’. As Humpty-Dumpty has cogently reminded us, a network can be anything we want it to be. It depends on how we define it. When we change the definition, the conclusions change too.\"},\n",
       " {'id': 'W2009216201',\n",
       "  'abstract': \"The hypothesized influence of a best friend's educational and occupational aspirations on the formation of ego's aspirations and the reciprocal influence in the opposite direction can be represented in path diagrams and equation systems involving simultaneous or jointly dependent variables. Standard methods of path analysis may be extended along lines suggested by work in econometrics to secure estimates of coefficients when the models are just identified or overidentified. The most plausible interpretation was reached with a model postulating an underlying factor, that is involved in such reciprocal nifluences and accounts for the correlations among the observed indicators, educational aspirations and occupational aspirations. Homophily with respect to background characteristics does not fully explain homophily with respect to ambition; a path coefficient of about 0.2 runs from friend's to respondent's ambition, and one of equal size runs in the opposite direction.\"},\n",
       " {'id': 'W1766032796', 'abstract': None}]"
      ]
     },
     "execution_count": 248,
     "metadata": {},
     "output_type": "execute_result"
    }
   ],
   "source": [
    "from pyalex import Works\n",
    "\n",
    "oa_id_list = \"W2130354913\"\n",
    "\n",
    "def extract_abstracs(oa_id_list):\n",
    "    \"\"\" extracts abstracts for a couple of test references \"\"\"\n",
    "    refs = Works().filter(openalex=oa_id_list).get()\n",
    "    referenced_works = [w[\"referenced_works\"] for w in refs]\n",
    "    refs = [refs[0][\"id\"]] + referenced_works[0]\n",
    "    #refs = refs[0] \n",
    "    \n",
    "    second_layer = []\n",
    "    for ref in range(0, len(refs), 25):\n",
    "        subset = \"|\".join(refs[ref : ref + 25])\n",
    "        second_layer.append(Works().filter(openalex=subset).get())\n",
    "    all = [entry for lists in second_layer for entry in lists]\n",
    "    return [{\"id\" : w[\"id\"].split(\"/\")[-1], \"abstract\": w[\"abstract\"]} for w in all] \n",
    "\n",
    "abstracts = extract_abstracs(oa_id_list)\n",
    "abstracts[5:11] "
   ]
  },
  {
   "cell_type": "code",
   "execution_count": 256,
   "metadata": {},
   "outputs": [
    {
     "data": {
      "text/plain": [
       "[{'id': 'W1992496496',\n",
       "  'abstract': study investigated informal networks white minority managers . Minority managers racially heterogeneous fewer intimate network relationships . minority group , ...},\n",
       " {'id': 'W1967272740',\n",
       "  'abstract': Legitimacy affects returns social capital . begin network structure social capital , explaining information control benefits structural holes . holes network enterpreneurial opportunities add value , persons rich opportunities expected successful peers . Accumulating empirical research supports prediction . , women pose puzzle . entrepreneurial networks linked early promotion senior men work women . Solving gender puzzle occasion network models social capital identify people accepted legitimate members population , describe people access social capital borrowing network strategic partner .},\n",
       " {'id': 'W2009294174',\n",
       "  'abstract': article combines studies transitivity homophily empirical analysis personal network integration . national sample individual personal networks , paper reveals transitivity explains majority cases network integration important caveats : ( 1 ) recent work networks social structure points important structural constraints personal networks shape formation , ( 2 ) homophily ( e.g. sex race ) choice homophily ( e.g. religion ) improve likelihood integration personal networks . results indicate second finding interacts relationship length availability focal points organize individual contact .},\n",
       " {'id': 'W1970602444',\n",
       "  'abstract': local ties important personal community networks ? local ties minority people active ties , network analysts argued decades neighborhood important . - analysis Toronto data shows contacts unit analysis instead ties , percentage local relationships active networks nearly doubles . , account active contacts coworkers , like neighbors physically proximate , find - thirds contacts ‘ local ’ . Humpty - Dumpty cogently reminded , network want . depends define . change definition , conclusions change .},\n",
       " {'id': 'W2009216201',\n",
       "  'abstract': hypothesized influence best friend educational occupational aspirations formation ego aspirations reciprocal influence opposite direction represented path diagrams equation systems involving simultaneous jointly dependent variables . Standard methods path analysis extended lines suggested work econometrics secure estimates coefficients models identified overidentified . plausible interpretation reached model postulating underlying factor , involved reciprocal nifluences accounts correlations observed indicators , educational aspirations occupational aspirations . Homophily respect background characteristics fully explain homophily respect ambition ; path coefficient 0.2 runs friend respondent ambition , equal size runs opposite direction .},\n",
       " {'id': 'W1766032796', 'abstract': None}]"
      ]
     },
     "execution_count": 256,
     "metadata": {},
     "output_type": "execute_result"
    }
   ],
   "source": [
    "def abstract_nlp_stopwords(abstracts):\n",
    "    for i in abstracts:\n",
    "        if i['abstract'] is not None:\n",
    "            i['abstract'] = nlp(i[\"abstract\"]) \n",
    "            i['abstract'] = \" \".join([token.text for token in i['abstract'] if not token.is_stop]) \n",
    "            i['abstract'] = nlp(i[\"abstract\"]) \n",
    "    return abstracts\n",
    "\n",
    "abstracts_nlp = abstract_nlp_stopwords(abstracts)\n",
    "abstracts_nlp[5:11] "
   ]
  },
  {
   "cell_type": "code",
   "execution_count": null,
   "metadata": {},
   "outputs": [],
   "source": [
    "# # remove stopwords \n",
    "# abstracts_rmstop = []\n",
    "# for element in abstracts_nlp[5:15]:\n",
    "#     print(element[\"abstract\"])\n",
    "#     abstracts_rmstop.append([token.text for token in element[\"abstract\"] if not token.is_stop])\n",
    "#    # abstracts_rmstop.append(\" \".join([token.text for token in token if not token.is_stop]))\n",
    "# #abstracts_rmstop[1:10] \n",
    "# abstracts_rmstop "
   ]
  },
  {
   "cell_type": "code",
   "execution_count": 263,
   "metadata": {},
   "outputs": [
    {
     "data": {
      "text/plain": [
       "[1.0,\n",
       " 0.9359206301381238,\n",
       " 0.9623202652684273,\n",
       " 0.9328678915346575,\n",
       " 0.934770202786281,\n",
       " 0.8864468813943054,\n",
       " 0.9091024970252911,\n",
       " 0.9142593280193054,\n",
       " 0.9158132132660801,\n",
       " 0.9269727860260786,\n",
       " 0.9636484971272957,\n",
       " 0.905907055629168,\n",
       " 0.9210499827919849,\n",
       " 0.9625897401343297,\n",
       " 0.9223159629709784,\n",
       " 0.926435668724007,\n",
       " 0.9063950596598817,\n",
       " 0.8766395081142505,\n",
       " 0.9133743829231248,\n",
       " 0.9475631346169366,\n",
       " 0.9612513651800692,\n",
       " 0.9359961468321891,\n",
       " 0.9632283114681653,\n",
       " 0.9268780385886565,\n",
       " 0.9750338320822599,\n",
       " 0.9453358954499211,\n",
       " 0.896246795631611,\n",
       " 0.9158198569586894,\n",
       " 0.8995491025419564,\n",
       " 0.941703937592469,\n",
       " 0.9104081059474699,\n",
       " 0.8622528566654688,\n",
       " 0.9187565855056784,\n",
       " 0.9380702004211026,\n",
       " 0.8536770211193032,\n",
       " 0.9477763422780789,\n",
       " 0.43449365909807847,\n",
       " 0.9316828249021427,\n",
       " 0.9472728233867296,\n",
       " 0.8712436455286169,\n",
       " 0.38281542890734815,\n",
       " 0.9368137064303573,\n",
       " 0.9069118633669673,\n",
       " 0.9531804058503536,\n",
       " 0.8295317282013036,\n",
       " 0.9577431175230843,\n",
       " 0.8921837458053984,\n",
       " 0.9313255262436323,\n",
       " 0.9696666264119033,\n",
       " 0.9262563276947344,\n",
       " 0.9739605668178313,\n",
       " 0.9254990149518812,\n",
       " 0.928131423644176,\n",
       " 0.8473709770321028,\n",
       " 0.9539973209013525,\n",
       " 0.6547126931316942,\n",
       " 0.9487989795115576,\n",
       " 0.9408533308992392,\n",
       " 0.8952157111306058,\n",
       " 0.9229610148697153,\n",
       " 0.9542068625250508,\n",
       " 0.9240868213619282,\n",
       " 0.8235540104495032,\n",
       " 0.9534940133907783,\n",
       " 0.9192364960400324,\n",
       " 0.22777954967149297,\n",
       " 0.9587636494491012,\n",
       " 0.9598983365869436,\n",
       " 0.94910851342798,\n",
       " 0.9114025801626501,\n",
       " 0.9515311825339364,\n",
       " 0.9129280811059806,\n",
       " 0.9604275906875899,\n",
       " 0.96926846713953,\n",
       " 0.7330345463186041,\n",
       " 0.9026917760047222,\n",
       " 0.9057338784469557,\n",
       " 0.9353989746454368,\n",
       " 0.9288104226619888,\n",
       " 0.91801149611096,\n",
       " 0.9416754874349179,\n",
       " 0.9358510000474313,\n",
       " 0.9081755504222482,\n",
       " 0.9503723943156485,\n",
       " 0.9551272655988989,\n",
       " 0.9172160893972716,\n",
       " 0.5425540214262157,\n",
       " 0.9187475200540552,\n",
       " 0.9132878824740613,\n",
       " 0.9174869031620405,\n",
       " 0.9240651675125602]"
      ]
     },
     "execution_count": 263,
     "metadata": {},
     "output_type": "execute_result"
    }
   ],
   "source": [
    "similarities = [abstracts[0][\"abstract\"].similarity(i[\"abstract\"]) for i in abstracts_nlp if i[\"abstract\"] is not None]"
   ]
  },
  {
   "cell_type": "code",
   "execution_count": 266,
   "metadata": {},
   "outputs": [
    {
     "data": {
      "text/plain": [
       "<Axes: ylabel='Count'>"
      ]
     },
     "execution_count": 266,
     "metadata": {},
     "output_type": "execute_result"
    },
    {
     "data": {
      "image/png": "[encoded data removed]",
      "text/plain": [
       "<Figure size 640x480 with 1 Axes>"
      ]
     },
     "metadata": {},
     "output_type": "display_data"
    }
   ],
   "source": [
    "import seaborn as sns\n",
    "sns.histplot(similarities)"
   ]
  },
  {
   "cell_type": "code",
   "execution_count": 284,
   "metadata": {},
   "outputs": [
    {
     "name": "stdout",
     "output_type": "stream",
     "text": [
      "[0, 24, 50, 48, 73, 10, 22, 13, 2, 20]\n"
     ]
    },
    {
     "data": {
      "text/plain": [
       "{'id': 'W2136048895',\n",
       " 'abstract': \" characteristics play role choice spouse , sociologists examined endogamy homogamy respect race / ethnicity , religion , socioeconomic status .... summarize empirical research answering questions : ( ) extent groups endogamous groups differ respect ? ( b ) endogamy changed time ? ( c ) factors related endogamy ? ( d ) dimensions partner choice coincide ? [ ] discuss strengths weaknesses past research . \"}"
      ]
     },
     "execution_count": 284,
     "metadata": {},
     "output_type": "execute_result"
    }
   ],
   "source": [
    "abstracts_nlp[0:10]\n",
    "\n",
    "print(sorted(range(len(similarities)), key=lambda i: similarities[i], reverse=True)[:10])\n",
    "\n",
    "abstracts_nlp[50]"
   ]
  },
  {
   "cell_type": "code",
   "execution_count": 118,
   "metadata": {},
   "outputs": [
    {
     "data": {
      "text/plain": [
       "'partir des donnees de 1985 , les AA . etudient dans un premier temps les facteurs qui soulignent la propension chez les Americains maries inclure leur epouse comme membre de leurs reseaux de discussion et dans un deuxieme temps les facteurs qui montrent leur propension nommer leur epouse comme la premiere , et probablement la plus importante , personne de leur reseau'"
      ]
     },
     "execution_count": 118,
     "metadata": {},
     "output_type": "execute_result"
    }
   ],
   "source": [
    "abstracts_rmstop[similarities.index(min(similarities))] "
   ]
  },
  {
   "cell_type": "code",
   "execution_count": null,
   "metadata": {},
   "outputs": [],
   "source": []
  }
 ],
 "metadata": {
  "kernelspec": {
   "display_name": "reviewerSelection",
   "language": "python",
   "name": "python3"
  },
  "language_info": {
   "codemirror_mode": {
    "name": "ipython",
    "version": 3
   },
   "file_extension": ".py",
   "mimetype": "text/x-python",
   "name": "python",
   "nbconvert_exporter": "python",
   "pygments_lexer": "ipython3",
   "version": "3.10.6"
  },
  "orig_nbformat": 4
 },
 "nbformat": 4,
 "nbformat_minor": 2
}
