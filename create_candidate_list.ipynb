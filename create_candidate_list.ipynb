{
 "cells": [
  {
   "cell_type": "code",
   "execution_count": 1,
   "metadata": {},
   "outputs": [],
   "source": [
    "import requests"
   ]
  },
  {
   "cell_type": "code",
   "execution_count": 24,
   "metadata": {},
   "outputs": [],
   "source": [
    "base_url = \"https://api.openalex.org/works/\"\n",
    "#params = {\"select\" : \"referenced_works\"}\n",
    "\n",
    "oa_id_list = [\"W2741809807\", \"W1560783210\", \"W2029057325\", \"W2160597895\"] \n",
    "\n",
    "def extract_cited_works(oa_id_list):\n",
    "   #return [requests.get(base_url + id, params=params).json() for id in oa_id_list]\n",
    "   refs = [requests.get(base_url + id).json()[\"referenced_works\"] for id in oa_id_list]\n",
    "   return {i for lists in refs for i in lists}  # list comprehension returning a set"
   ]
  },
  {
   "cell_type": "code",
   "execution_count": 25,
   "metadata": {},
   "outputs": [
    {
     "data": {
      "text/plain": [
       "79"
      ]
     },
     "execution_count": 25,
     "metadata": {},
     "output_type": "execute_result"
    }
   ],
   "source": [
    "first_layer_refs = extract_cited_works(oa_id_list)\n",
    "len(first_layer_refs)"
   ]
  },
  {
   "cell_type": "code",
   "execution_count": 38,
   "metadata": {},
   "outputs": [
    {
     "name": "stdout",
     "output_type": "stream",
     "text": [
      "951\n"
     ]
    },
    {
     "data": {
      "text/plain": [
       "['https://openalex.org/W2318503549',\n",
       " 'https://openalex.org/W2797247465',\n",
       " 'https://openalex.org/W2099794271',\n",
       " 'https://openalex.org/W2108183214',\n",
       " 'https://openalex.org/W570705956',\n",
       " 'https://openalex.org/W2339106159',\n",
       " 'https://openalex.org/W2163887529',\n",
       " 'https://openalex.org/W2020874028',\n",
       " 'https://openalex.org/W2041026297',\n",
       " 'https://openalex.org/W2345444281']"
      ]
     },
     "execution_count": 38,
     "metadata": {},
     "output_type": "execute_result"
    }
   ],
   "source": [
    "second_layer_ids = [urls.split(\"/\")[-1] for urls in first_layer_refs]\n",
    "\n",
    "second_layer_refs = extract_cited_works(second_layer_ids)\n",
    "print(len(second_layer_refs))\n",
    "list(second_layer_refs)[:10] "
   ]
  },
  {
   "cell_type": "code",
   "execution_count": null,
   "metadata": {},
   "outputs": [],
   "source": []
  }
 ],
 "metadata": {
  "kernelspec": {
   "display_name": "reviewerSelection",
   "language": "python",
   "name": "python3"
  },
  "language_info": {
   "codemirror_mode": {
    "name": "ipython",
    "version": 3
   },
   "file_extension": ".py",
   "mimetype": "text/x-python",
   "name": "python",
   "nbconvert_exporter": "python",
   "pygments_lexer": "ipython3",
   "version": "3.10.6"
  },
  "orig_nbformat": 4
 },
 "nbformat": 4,
 "nbformat_minor": 2
}
