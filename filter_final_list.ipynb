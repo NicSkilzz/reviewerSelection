{
 "cells": [
  {
   "cell_type": "markdown",
   "metadata": {},
   "source": [
    "- keep the spacy similarities for the past 5years, beyond 5 years reduce the score by 0.05 (debatable) per year \n",
    "- keep only papers from sociology journals \n",
    "- flag authors that are in restricted list \n"
   ]
  },
  {
   "cell_type": "code",
   "execution_count": null,
   "metadata": {
    "vscode": {
     "languageId": "plaintext"
    }
   },
   "outputs": [],
   "source": [
    "abstracts = "
   ]
  }
 ],
 "metadata": {
  "language_info": {
   "name": "python"
  },
  "orig_nbformat": 4
 },
 "nbformat": 4,
 "nbformat_minor": 2
}
